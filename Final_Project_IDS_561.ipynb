{
  "nbformat": 4,
  "nbformat_minor": 0,
  "metadata": {
    "colab": {
      "name": "Final Project IDS 561",
      "provenance": [],
      "collapsed_sections": [],
      "machine_shape": "hm"
    },
    "kernelspec": {
      "name": "python3",
      "display_name": "Python 3"
    }
  },
  "cells": [
    {
      "cell_type": "code",
      "metadata": {
        "id": "B0SWfuV03mQM",
        "colab_type": "code",
        "colab": {}
      },
      "source": [
        "#Installing spark\n",
        "!apt-get install openjdk-8-jdk-headless -qq > /dev/null\n",
        "!wget -q https://www-us.apache.org/dist/spark/spark-2.4.5/spark-2.4.5-bin-hadoop2.7.tgz\n",
        "!tar xf spark-2.4.5-bin-hadoop2.7.tgz\n",
        "!pip install -q findspark"
      ],
      "execution_count": 0,
      "outputs": []
    },
    {
      "cell_type": "code",
      "metadata": {
        "id": "pKbWh39Z4gHF",
        "colab_type": "code",
        "colab": {}
      },
      "source": [
        "#setting environment\n",
        "import os\n",
        "os.environ[\"JAVA_HOME\"] = \"/usr/lib/jvm/java-8-openjdk-amd64\"\n",
        "os.environ[\"SPARK_HOME\"] = \"/content/spark-2.4.5-bin-hadoop2.7.tgz\""
      ],
      "execution_count": 0,
      "outputs": []
    },
    {
      "cell_type": "code",
      "metadata": {
        "id": "v5Fse-TB43j6",
        "colab_type": "code",
        "colab": {}
      },
      "source": [
        "#building session\n",
        "import findspark\n",
        "findspark.init('/content/spark-2.4.5-bin-hadoop2.7')\n",
        "from pyspark.sql import SparkSession\n",
        "spark = SparkSession.builder.master(\"local[*]\").getOrCreate()"
      ],
      "execution_count": 0,
      "outputs": []
    },
    {
      "cell_type": "code",
      "metadata": {
        "id": "cM2P-zFm2piJ",
        "colab_type": "code",
        "outputId": "dbc96e5e-105a-484f-b45b-d2def73d76b7",
        "colab": {
          "base_uri": "https://localhost:8080/",
          "height": 139
        }
      },
      "source": [
        "#mounting drive\n",
        "from google.colab import drive\n",
        "drive.mount('/content/drive')\n",
        "%cd /content/drive/My\\ Drive/Colab\\ Notebooks"
      ],
      "execution_count": 4,
      "outputs": [
        {
          "output_type": "stream",
          "text": [
            "Go to this URL in a browser: https://accounts.google.com/o/oauth2/auth?client_id=947318989803-6bn6qk8qdgf4n4g3pfee6491hc0brc4i.apps.googleusercontent.com&redirect_uri=urn%3aietf%3awg%3aoauth%3a2.0%3aoob&response_type=code&scope=email%20https%3a%2f%2fwww.googleapis.com%2fauth%2fdocs.test%20https%3a%2f%2fwww.googleapis.com%2fauth%2fdrive%20https%3a%2f%2fwww.googleapis.com%2fauth%2fdrive.photos.readonly%20https%3a%2f%2fwww.googleapis.com%2fauth%2fpeopleapi.readonly\n",
            "\n",
            "Enter your authorization code:\n",
            "··········\n",
            "Mounted at /content/drive\n",
            "/content/drive/My Drive/Colab Notebooks\n"
          ],
          "name": "stdout"
        }
      ]
    },
    {
      "cell_type": "code",
      "metadata": {
        "id": "ipVc7zKy2x5T",
        "colab_type": "code",
        "outputId": "44153a81-6807-4dee-e237-8a5a2a2495e1",
        "colab": {
          "base_uri": "https://localhost:8080/",
          "height": 202
        }
      },
      "source": [
        "#Downloading products ratings data\n",
        "!wget http://deepyeti.ucsd.edu/jianmo/amazon/categoryFilesSmall/Clothing_Shoes_and_Jewelry.csv"
      ],
      "execution_count": 0,
      "outputs": [
        {
          "output_type": "stream",
          "text": [
            "--2020-05-04 04:57:25--  http://deepyeti.ucsd.edu/jianmo/amazon/categoryFilesSmall/Clothing_Shoes_and_Jewelry.csv\n",
            "Resolving deepyeti.ucsd.edu (deepyeti.ucsd.edu)... 169.228.63.50\n",
            "Connecting to deepyeti.ucsd.edu (deepyeti.ucsd.edu)|169.228.63.50|:80... connected.\n",
            "HTTP request sent, awaiting response... 200 OK\n",
            "Length: 992604625 (947M) [application/octet-stream]\n",
            "Saving to: ‘Clothing_Shoes_and_Jewelry.csv’\n",
            "\n",
            "Clothing_Shoes_and_ 100%[===================>] 946.62M  10.8MB/s    in 89s     \n",
            "\n",
            "2020-05-04 04:58:54 (10.7 MB/s) - ‘Clothing_Shoes_and_Jewelry.csv’ saved [992604625/992604625]\n",
            "\n"
          ],
          "name": "stdout"
        }
      ]
    },
    {
      "cell_type": "code",
      "metadata": {
        "id": "OswkvRy52yc8",
        "colab_type": "code",
        "outputId": "3865d302-a354-49f2-fc72-28e07110dacb",
        "colab": {
          "base_uri": "https://localhost:8080/",
          "height": 202
        }
      },
      "source": [
        "#Downloading metadata for the products\n",
        "!wget http://deepyeti.ucsd.edu/jianmo/amazon/metaFiles/meta_Clothing_Shoes_and_Jewelry.json.gz"
      ],
      "execution_count": 0,
      "outputs": [
        {
          "output_type": "stream",
          "text": [
            "--2020-05-04 05:00:02--  http://deepyeti.ucsd.edu/jianmo/amazon/metaFiles/meta_Clothing_Shoes_and_Jewelry.json.gz\n",
            "Resolving deepyeti.ucsd.edu (deepyeti.ucsd.edu)... 169.228.63.50\n",
            "Connecting to deepyeti.ucsd.edu (deepyeti.ucsd.edu)|169.228.63.50|:80... connected.\n",
            "HTTP request sent, awaiting response... 200 OK\n",
            "Length: 1519327531 (1.4G) [application/octet-stream]\n",
            "Saving to: ‘meta_Clothing_Shoes_and_Jewelry.json.gz’\n",
            "\n",
            "meta_Clothing_Shoes 100%[===================>]   1.41G  10.8MB/s    in 2m 14s  \n",
            "\n",
            "2020-05-04 05:02:17 (10.8 MB/s) - ‘meta_Clothing_Shoes_and_Jewelry.json.gz’ saved [1519327531/1519327531]\n",
            "\n"
          ],
          "name": "stdout"
        }
      ]
    },
    {
      "cell_type": "markdown",
      "metadata": {
        "id": "wx9YjIkCPh9x",
        "colab_type": "text"
      },
      "source": [
        "## **Data Pre-Processing**"
      ]
    },
    {
      "cell_type": "code",
      "metadata": {
        "id": "6UUH72pv21wK",
        "colab_type": "code",
        "colab": {}
      },
      "source": [
        "#importing libraries\n",
        "import pandas as pd\n",
        "import gzip\n",
        "import json"
      ],
      "execution_count": 0,
      "outputs": []
    },
    {
      "cell_type": "code",
      "metadata": {
        "id": "zlG6vhF622PV",
        "colab_type": "code",
        "colab": {}
      },
      "source": [
        "#Coverting the metadata file from json to DataFrame\n",
        "def parse(path):\n",
        "  g = gzip.open(path, 'rb')\n",
        "  for l in g:\n",
        "    yield json.loads(l)\n",
        "\n",
        "def getDF(path):\n",
        "  i = 0\n",
        "  df = {}\n",
        "  for d in parse(path):\n",
        "    df[i] = d\n",
        "    i += 1\n",
        "  return pd.DataFrame.from_dict(df, orient='index')\n",
        "\n",
        "Beauty_metaData = getDF('meta_Clothing_Shoes_and_Jewelry.json.gz')"
      ],
      "execution_count": 0,
      "outputs": []
    },
    {
      "cell_type": "code",
      "metadata": {
        "id": "a93B6pu-5vp6",
        "colab_type": "code",
        "colab": {
          "base_uri": "https://localhost:8080/",
          "height": 751
        },
        "outputId": "f2f3dd4a-5d1d-478d-acd8-699f7545898b"
      },
      "source": [
        "#looking at the metadata\n",
        "Beauty_metaData.head()"
      ],
      "execution_count": 10,
      "outputs": [
        {
          "output_type": "execute_result",
          "data": {
            "text/html": [
              "<div>\n",
              "<style scoped>\n",
              "    .dataframe tbody tr th:only-of-type {\n",
              "        vertical-align: middle;\n",
              "    }\n",
              "\n",
              "    .dataframe tbody tr th {\n",
              "        vertical-align: top;\n",
              "    }\n",
              "\n",
              "    .dataframe thead th {\n",
              "        text-align: right;\n",
              "    }\n",
              "</style>\n",
              "<table border=\"1\" class=\"dataframe\">\n",
              "  <thead>\n",
              "    <tr style=\"text-align: right;\">\n",
              "      <th></th>\n",
              "      <th>category</th>\n",
              "      <th>description</th>\n",
              "      <th>title</th>\n",
              "      <th>brand</th>\n",
              "      <th>feature</th>\n",
              "      <th>rank</th>\n",
              "      <th>date</th>\n",
              "      <th>asin</th>\n",
              "      <th>image</th>\n",
              "      <th>also_view</th>\n",
              "      <th>price</th>\n",
              "      <th>fit</th>\n",
              "      <th>also_buy</th>\n",
              "      <th>main_cat</th>\n",
              "      <th>tech1</th>\n",
              "      <th>details</th>\n",
              "      <th>similar_item</th>\n",
              "      <th>tech2</th>\n",
              "    </tr>\n",
              "  </thead>\n",
              "  <tbody>\n",
              "    <tr>\n",
              "      <th>0</th>\n",
              "      <td>[Clothing, Shoes &amp; Jewelry, Costumes &amp; Accesso...</td>\n",
              "      <td>[6\" long, stretched waist measures 11 1/2\" acr...</td>\n",
              "      <td>Purple Sequin Tiny Dancer Tutu Ballet Dance Fa...</td>\n",
              "      <td>Big Dreams</td>\n",
              "      <td>[3 layers of tulle, 6\" long, stretched waist m...</td>\n",
              "      <td>19,963,069inClothing,ShoesJewelry(</td>\n",
              "      <td>5 star5 star (0%)</td>\n",
              "      <td>0000037214</td>\n",
              "      <td>NaN</td>\n",
              "      <td>NaN</td>\n",
              "      <td>NaN</td>\n",
              "      <td>NaN</td>\n",
              "      <td>NaN</td>\n",
              "      <td>NaN</td>\n",
              "      <td>NaN</td>\n",
              "      <td>NaN</td>\n",
              "      <td>NaN</td>\n",
              "      <td>NaN</td>\n",
              "    </tr>\n",
              "    <tr>\n",
              "      <th>1</th>\n",
              "      <td>[Clothing, Shoes &amp; Jewelry, Luggage &amp; Travel G...</td>\n",
              "      <td>[The Hottest Bag in Town! Brand: Anello Condit...</td>\n",
              "      <td>Japan Anello Backpack Unisex LARGE LIGHT GRAY ...</td>\n",
              "      <td>Anello</td>\n",
              "      <td>[Polyester Canvas Waterproof, Imported, Size: ...</td>\n",
              "      <td>4,537,420inClothing,ShoesJewelry(</td>\n",
              "      <td>5 star</td>\n",
              "      <td>0201377179</td>\n",
              "      <td>[https://images-na.ssl-images-amazon.com/image...</td>\n",
              "      <td>NaN</td>\n",
              "      <td>NaN</td>\n",
              "      <td>NaN</td>\n",
              "      <td>NaN</td>\n",
              "      <td>NaN</td>\n",
              "      <td>NaN</td>\n",
              "      <td>NaN</td>\n",
              "      <td>NaN</td>\n",
              "      <td>NaN</td>\n",
              "    </tr>\n",
              "    <tr>\n",
              "      <th>2</th>\n",
              "      <td>[Clothing, Shoes &amp; Jewelry, Luggage &amp; Travel G...</td>\n",
              "      <td>[The Hottest Bag in Town! Brand: Anello Condit...</td>\n",
              "      <td>Japan Anello Backpack Unisex PINK BEIGE LARGE ...</td>\n",
              "      <td>Anello</td>\n",
              "      <td>[PU Leather, Imported, Size: Large PU Leather ...</td>\n",
              "      <td>3,994,472inClothing,ShoesJewelry(</td>\n",
              "      <td>5 star</td>\n",
              "      <td>0204444454</td>\n",
              "      <td>[https://images-na.ssl-images-amazon.com/image...</td>\n",
              "      <td>[B07CJF5HLR, B01EBI8UH6, B01N1LR908, B074M4QKG...</td>\n",
              "      <td>$70.00</td>\n",
              "      <td>NaN</td>\n",
              "      <td>NaN</td>\n",
              "      <td>NaN</td>\n",
              "      <td>NaN</td>\n",
              "      <td>NaN</td>\n",
              "      <td>NaN</td>\n",
              "      <td>NaN</td>\n",
              "    </tr>\n",
              "    <tr>\n",
              "      <th>3</th>\n",
              "      <td>[Clothing, Shoes &amp; Jewelry, Luggage &amp; Travel G...</td>\n",
              "      <td>[The Hottest Bag in Town! Brand: Anello Condit...</td>\n",
              "      <td>Japan Anello Backpack Unisex BLACK LARGE PU LE...</td>\n",
              "      <td>Anello</td>\n",
              "      <td>[PU Leather, Imported, Size: Large PU Leather ...</td>\n",
              "      <td>635,761inClothing,ShoesJewelry(</td>\n",
              "      <td>5 star</td>\n",
              "      <td>0204444403</td>\n",
              "      <td>[https://images-na.ssl-images-amazon.com/image...</td>\n",
              "      <td>[B01DLVYOPG, B07CJF5HLR, B01MSS59Y6, B071YBC1J...</td>\n",
              "      <td>$65.99</td>\n",
              "      <td>NaN</td>\n",
              "      <td>NaN</td>\n",
              "      <td>NaN</td>\n",
              "      <td>NaN</td>\n",
              "      <td>NaN</td>\n",
              "      <td>NaN</td>\n",
              "      <td>NaN</td>\n",
              "    </tr>\n",
              "    <tr>\n",
              "      <th>4</th>\n",
              "      <td>[Clothing, Shoes &amp; Jewelry, Novelty &amp; More, Cl...</td>\n",
              "      <td>[Brand New.  Hat Centre Length: adult about 8c...</td>\n",
              "      <td>bettyhome Unisex Adult Winter Spring Thicken C...</td>\n",
              "      <td>bettyhome</td>\n",
              "      <td>[Imported, Plush,Cotton, Polyester, Lovely for...</td>\n",
              "      <td>5,061,041inClothing,ShoesJewelry(</td>\n",
              "      <td>5 star5 star (0%)</td>\n",
              "      <td>0206313535</td>\n",
              "      <td>[https://images-na.ssl-images-amazon.com/image...</td>\n",
              "      <td>[B00VGT93YS, B07FTY87LM, B01IKVOY8E, B01GF6C6F...</td>\n",
              "      <td>$18.99</td>\n",
              "      <td>NaN</td>\n",
              "      <td>NaN</td>\n",
              "      <td>NaN</td>\n",
              "      <td>NaN</td>\n",
              "      <td>NaN</td>\n",
              "      <td>NaN</td>\n",
              "      <td>NaN</td>\n",
              "    </tr>\n",
              "  </tbody>\n",
              "</table>\n",
              "</div>"
            ],
            "text/plain": [
              "                                            category  ... tech2\n",
              "0  [Clothing, Shoes & Jewelry, Costumes & Accesso...  ...   NaN\n",
              "1  [Clothing, Shoes & Jewelry, Luggage & Travel G...  ...   NaN\n",
              "2  [Clothing, Shoes & Jewelry, Luggage & Travel G...  ...   NaN\n",
              "3  [Clothing, Shoes & Jewelry, Luggage & Travel G...  ...   NaN\n",
              "4  [Clothing, Shoes & Jewelry, Novelty & More, Cl...  ...   NaN\n",
              "\n",
              "[5 rows x 18 columns]"
            ]
          },
          "metadata": {
            "tags": []
          },
          "execution_count": 10
        }
      ]
    },
    {
      "cell_type": "code",
      "metadata": {
        "id": "SoRdm6Pp26fz",
        "colab_type": "code",
        "outputId": "f91545e0-47dc-4474-b01f-59892caec628",
        "colab": {
          "base_uri": "https://localhost:8080/",
          "height": 340
        }
      },
      "source": [
        "#Checking null values in the columns\n",
        "Beauty_metaData.isna().sum()"
      ],
      "execution_count": 11,
      "outputs": [
        {
          "output_type": "execute_result",
          "data": {
            "text/plain": [
              "category              0\n",
              "description      671407\n",
              "title                50\n",
              "brand            802651\n",
              "feature          162958\n",
              "rank              69814\n",
              "date             185208\n",
              "asin                  0\n",
              "image            684447\n",
              "also_view       1943585\n",
              "price           1784162\n",
              "fit             2291215\n",
              "also_buy        2225495\n",
              "main_cat        2471831\n",
              "tech1           2676368\n",
              "details         2570076\n",
              "similar_item    2667932\n",
              "tech2           2684995\n",
              "dtype: int64"
            ]
          },
          "metadata": {
            "tags": []
          },
          "execution_count": 11
        }
      ]
    },
    {
      "cell_type": "code",
      "metadata": {
        "id": "j4yG8ciL28pn",
        "colab_type": "code",
        "colab": {}
      },
      "source": [
        "#Choosing only asin, title and main_cat as they have the least missing values and are useful for our later analysis.\n",
        "Beauty_metaData1 = Beauty_metaData[[\"asin\", \"title\", \"main_cat\"]]"
      ],
      "execution_count": 0,
      "outputs": []
    },
    {
      "cell_type": "code",
      "metadata": {
        "id": "AW4L6jcu2-fG",
        "colab_type": "code",
        "outputId": "c0c22cb1-cbf4-433e-8b55-0a1514ea9768",
        "colab": {
          "base_uri": "https://localhost:8080/",
          "height": 1000
        }
      },
      "source": [
        "#Checking the data again\n",
        "Beauty_metaData1.head(40)"
      ],
      "execution_count": 19,
      "outputs": [
        {
          "output_type": "execute_result",
          "data": {
            "text/html": [
              "<div>\n",
              "<style scoped>\n",
              "    .dataframe tbody tr th:only-of-type {\n",
              "        vertical-align: middle;\n",
              "    }\n",
              "\n",
              "    .dataframe tbody tr th {\n",
              "        vertical-align: top;\n",
              "    }\n",
              "\n",
              "    .dataframe thead th {\n",
              "        text-align: right;\n",
              "    }\n",
              "</style>\n",
              "<table border=\"1\" class=\"dataframe\">\n",
              "  <thead>\n",
              "    <tr style=\"text-align: right;\">\n",
              "      <th></th>\n",
              "      <th>asin</th>\n",
              "      <th>title</th>\n",
              "      <th>main_cat</th>\n",
              "    </tr>\n",
              "  </thead>\n",
              "  <tbody>\n",
              "    <tr>\n",
              "      <th>0</th>\n",
              "      <td>0000037214</td>\n",
              "      <td>Purple Sequin Tiny Dancer Tutu Ballet Dance Fa...</td>\n",
              "      <td>NaN</td>\n",
              "    </tr>\n",
              "    <tr>\n",
              "      <th>1</th>\n",
              "      <td>0201377179</td>\n",
              "      <td>Japan Anello Backpack Unisex LARGE LIGHT GRAY ...</td>\n",
              "      <td>NaN</td>\n",
              "    </tr>\n",
              "    <tr>\n",
              "      <th>2</th>\n",
              "      <td>0204444454</td>\n",
              "      <td>Japan Anello Backpack Unisex PINK BEIGE LARGE ...</td>\n",
              "      <td>NaN</td>\n",
              "    </tr>\n",
              "    <tr>\n",
              "      <th>3</th>\n",
              "      <td>0204444403</td>\n",
              "      <td>Japan Anello Backpack Unisex BLACK LARGE PU LE...</td>\n",
              "      <td>NaN</td>\n",
              "    </tr>\n",
              "    <tr>\n",
              "      <th>4</th>\n",
              "      <td>0206313535</td>\n",
              "      <td>bettyhome Unisex Adult Winter Spring Thicken C...</td>\n",
              "      <td>NaN</td>\n",
              "    </tr>\n",
              "    <tr>\n",
              "      <th>5</th>\n",
              "      <td>0206335962</td>\n",
              "      <td>bettyhome Womens Lace Short Sleeves Top Printi...</td>\n",
              "      <td>NaN</td>\n",
              "    </tr>\n",
              "    <tr>\n",
              "      <th>6</th>\n",
              "      <td>0206323190</td>\n",
              "      <td>bettyhome Women Sexy Club Party Super High Hee...</td>\n",
              "      <td>NaN</td>\n",
              "    </tr>\n",
              "    <tr>\n",
              "      <th>7</th>\n",
              "      <td>0244444404</td>\n",
              "      <td>Japan Anello Backpack Unisex NAVY MINI SMALL P...</td>\n",
              "      <td>NaN</td>\n",
              "    </tr>\n",
              "    <tr>\n",
              "      <th>8</th>\n",
              "      <td>024444448X</td>\n",
              "      <td>Japan Anello LARGE CAMO 2 Way Unisex Shoulder ...</td>\n",
              "      <td>NaN</td>\n",
              "    </tr>\n",
              "    <tr>\n",
              "      <th>9</th>\n",
              "      <td>0681256036</td>\n",
              "      <td>Twilight Saga: New Moon Alice Chocker Necklace...</td>\n",
              "      <td>Toys &amp; Games</td>\n",
              "    </tr>\n",
              "    <tr>\n",
              "      <th>10</th>\n",
              "      <td>0756029104</td>\n",
              "      <td>Viva Español Pins Set of 10</td>\n",
              "      <td>Office Products</td>\n",
              "    </tr>\n",
              "    <tr>\n",
              "      <th>11</th>\n",
              "      <td>0829750487</td>\n",
              "      <td>Todo lo puedo / I Can Do Everything Bible Cove...</td>\n",
              "      <td>Books</td>\n",
              "    </tr>\n",
              "    <tr>\n",
              "      <th>12</th>\n",
              "      <td>0871167042</td>\n",
              "      <td>Organic Wire and Metal Jewelry: Stunning Piece...</td>\n",
              "      <td>Books</td>\n",
              "    </tr>\n",
              "    <tr>\n",
              "      <th>13</th>\n",
              "      <td>096603550X</td>\n",
              "      <td>Coach Soccer:Everything You Need to VHS</td>\n",
              "      <td>Movies &amp; TV</td>\n",
              "    </tr>\n",
              "    <tr>\n",
              "      <th>14</th>\n",
              "      <td>0982948530</td>\n",
              "      <td>Rome Due Centi Luoghi Pocket Guide to 220 Can'...</td>\n",
              "      <td>Books</td>\n",
              "    </tr>\n",
              "    <tr>\n",
              "      <th>15</th>\n",
              "      <td>1519588135</td>\n",
              "      <td>One White Lie (The Barrington Billionaire's Se...</td>\n",
              "      <td>Books</td>\n",
              "    </tr>\n",
              "    <tr>\n",
              "      <th>16</th>\n",
              "      <td>1578508592</td>\n",
              "      <td>Oriental Carpet Woven Coin Change Purse- Kerma...</td>\n",
              "      <td>Office Products</td>\n",
              "    </tr>\n",
              "    <tr>\n",
              "      <th>17</th>\n",
              "      <td>1579652956</td>\n",
              "      <td>Itty-Bitty Hats: cute and cuddly caps to knit ...</td>\n",
              "      <td>Books</td>\n",
              "    </tr>\n",
              "    <tr>\n",
              "      <th>18</th>\n",
              "      <td>1597421634</td>\n",
              "      <td>'Scary Skeleton' Glow-in-the-Dark Footed Bodys...</td>\n",
              "      <td>NaN</td>\n",
              "    </tr>\n",
              "    <tr>\n",
              "      <th>19</th>\n",
              "      <td>1608322637</td>\n",
              "      <td>Bambino Balls Short Sleeve Football Outfit Bro...</td>\n",
              "      <td>Baby</td>\n",
              "    </tr>\n",
              "    <tr>\n",
              "      <th>20</th>\n",
              "      <td>160832222X</td>\n",
              "      <td>Bambino Balls Short Sleeve Baseball Outfit</td>\n",
              "      <td>NaN</td>\n",
              "    </tr>\n",
              "    <tr>\n",
              "      <th>21</th>\n",
              "      <td>1608322254</td>\n",
              "      <td>Bambino Balls Short Sleeve Football Outfit. Sm...</td>\n",
              "      <td>NaN</td>\n",
              "    </tr>\n",
              "    <tr>\n",
              "      <th>22</th>\n",
              "      <td>1614030146</td>\n",
              "      <td>CHES Exam Secrets Study Guide: CHES Test Revie...</td>\n",
              "      <td>NaN</td>\n",
              "    </tr>\n",
              "    <tr>\n",
              "      <th>23</th>\n",
              "      <td>1934711020</td>\n",
              "      <td>Essential Oils Overview and Reference Guide</td>\n",
              "      <td>Books</td>\n",
              "    </tr>\n",
              "    <tr>\n",
              "      <th>24</th>\n",
              "      <td>1936023857</td>\n",
              "      <td>Carson Dellosa Kids Name Tags (150003)</td>\n",
              "      <td>Office Products</td>\n",
              "    </tr>\n",
              "    <tr>\n",
              "      <th>25</th>\n",
              "      <td>1940857953</td>\n",
              "      <td>Stay On Sputtens Sock Puppet Mittens, Water Re...</td>\n",
              "      <td>Baby</td>\n",
              "    </tr>\n",
              "    <tr>\n",
              "      <th>26</th>\n",
              "      <td>194085797X</td>\n",
              "      <td>Stay On Sputtens Sock Puppet Mittens, Water Re...</td>\n",
              "      <td>Baby</td>\n",
              "    </tr>\n",
              "    <tr>\n",
              "      <th>27</th>\n",
              "      <td>1941489109</td>\n",
              "      <td>YUNY Men's Easy Care Floral Business Comfort S...</td>\n",
              "      <td>Books</td>\n",
              "    </tr>\n",
              "    <tr>\n",
              "      <th>28</th>\n",
              "      <td>1942065000</td>\n",
              "      <td>FLCH+YIGE Womens Summer Spaghetti Strap Loose ...</td>\n",
              "      <td>Books</td>\n",
              "    </tr>\n",
              "    <tr>\n",
              "      <th>29</th>\n",
              "      <td>194478490X</td>\n",
              "      <td>2017 Danmala Calendar</td>\n",
              "      <td>Amazon Home</td>\n",
              "    </tr>\n",
              "    <tr>\n",
              "      <th>30</th>\n",
              "      <td>3979002381</td>\n",
              "      <td>Gold Flat Hamsa Hand Kabbalah Special Thick Re...</td>\n",
              "      <td>Health &amp; Personal Care</td>\n",
              "    </tr>\n",
              "    <tr>\n",
              "      <th>31</th>\n",
              "      <td>3979002438</td>\n",
              "      <td>Silver Magen David Kabbalah Special Thick Blac...</td>\n",
              "      <td>Health &amp; Personal Care</td>\n",
              "    </tr>\n",
              "    <tr>\n",
              "      <th>32</th>\n",
              "      <td>3979050432</td>\n",
              "      <td>Face Ski Mask 3 Hole (More Colors)- Black</td>\n",
              "      <td>NaN</td>\n",
              "    </tr>\n",
              "    <tr>\n",
              "      <th>33</th>\n",
              "      <td>3979002845</td>\n",
              "      <td>Ladies Straw Slipper Womens Summer Beach Flat ...</td>\n",
              "      <td>Health &amp; Personal Care</td>\n",
              "    </tr>\n",
              "    <tr>\n",
              "      <th>34</th>\n",
              "      <td>3999852739</td>\n",
              "      <td>Bockle® 1991 Tube White Men Leather Pants Trou...</td>\n",
              "      <td>NaN</td>\n",
              "    </tr>\n",
              "    <tr>\n",
              "      <th>35</th>\n",
              "      <td>3999861517</td>\n",
              "      <td>Bockle® 1991 lace-up Leather Pants Leatherjean...</td>\n",
              "      <td>NaN</td>\n",
              "    </tr>\n",
              "    <tr>\n",
              "      <th>36</th>\n",
              "      <td>3999852070</td>\n",
              "      <td>Bockle® 1991 Tube Lederhose Men Leather Pants ...</td>\n",
              "      <td>NaN</td>\n",
              "    </tr>\n",
              "    <tr>\n",
              "      <th>37</th>\n",
              "      <td>3999862548</td>\n",
              "      <td>Bockle® B-Joggers Tight Leather Sweatpants But...</td>\n",
              "      <td>NaN</td>\n",
              "    </tr>\n",
              "    <tr>\n",
              "      <th>38</th>\n",
              "      <td>399986236X</td>\n",
              "      <td>Bockle® Boyfriend Men Leather Pants Trouser Tu...</td>\n",
              "      <td>NaN</td>\n",
              "    </tr>\n",
              "    <tr>\n",
              "      <th>39</th>\n",
              "      <td>3999862637</td>\n",
              "      <td>Bockle® Joggers Running Leather Pants Trousers...</td>\n",
              "      <td>NaN</td>\n",
              "    </tr>\n",
              "  </tbody>\n",
              "</table>\n",
              "</div>"
            ],
            "text/plain": [
              "          asin  ...                main_cat\n",
              "0   0000037214  ...                     NaN\n",
              "1   0201377179  ...                     NaN\n",
              "2   0204444454  ...                     NaN\n",
              "3   0204444403  ...                     NaN\n",
              "4   0206313535  ...                     NaN\n",
              "5   0206335962  ...                     NaN\n",
              "6   0206323190  ...                     NaN\n",
              "7   0244444404  ...                     NaN\n",
              "8   024444448X  ...                     NaN\n",
              "9   0681256036  ...            Toys & Games\n",
              "10  0756029104  ...         Office Products\n",
              "11  0829750487  ...                   Books\n",
              "12  0871167042  ...                   Books\n",
              "13  096603550X  ...             Movies & TV\n",
              "14  0982948530  ...                   Books\n",
              "15  1519588135  ...                   Books\n",
              "16  1578508592  ...         Office Products\n",
              "17  1579652956  ...                   Books\n",
              "18  1597421634  ...                     NaN\n",
              "19  1608322637  ...                    Baby\n",
              "20  160832222X  ...                     NaN\n",
              "21  1608322254  ...                     NaN\n",
              "22  1614030146  ...                     NaN\n",
              "23  1934711020  ...                   Books\n",
              "24  1936023857  ...         Office Products\n",
              "25  1940857953  ...                    Baby\n",
              "26  194085797X  ...                    Baby\n",
              "27  1941489109  ...                   Books\n",
              "28  1942065000  ...                   Books\n",
              "29  194478490X  ...             Amazon Home\n",
              "30  3979002381  ...  Health & Personal Care\n",
              "31  3979002438  ...  Health & Personal Care\n",
              "32  3979050432  ...                     NaN\n",
              "33  3979002845  ...  Health & Personal Care\n",
              "34  3999852739  ...                     NaN\n",
              "35  3999861517  ...                     NaN\n",
              "36  3999852070  ...                     NaN\n",
              "37  3999862548  ...                     NaN\n",
              "38  399986236X  ...                     NaN\n",
              "39  3999862637  ...                     NaN\n",
              "\n",
              "[40 rows x 3 columns]"
            ]
          },
          "metadata": {
            "tags": []
          },
          "execution_count": 19
        }
      ]
    },
    {
      "cell_type": "code",
      "metadata": {
        "id": "3Ga0D6vN9YPg",
        "colab_type": "code",
        "outputId": "b46b62c3-0494-4000-8af2-87852051d1c1",
        "colab": {
          "base_uri": "https://localhost:8080/",
          "height": 419
        }
      },
      "source": [
        "#dropping all the rows with missing values from meta data\n",
        "Products_meta_df = Beauty_metaData1.dropna()\n",
        "display(Products_meta_df)"
      ],
      "execution_count": 20,
      "outputs": [
        {
          "output_type": "display_data",
          "data": {
            "text/html": [
              "<div>\n",
              "<style scoped>\n",
              "    .dataframe tbody tr th:only-of-type {\n",
              "        vertical-align: middle;\n",
              "    }\n",
              "\n",
              "    .dataframe tbody tr th {\n",
              "        vertical-align: top;\n",
              "    }\n",
              "\n",
              "    .dataframe thead th {\n",
              "        text-align: right;\n",
              "    }\n",
              "</style>\n",
              "<table border=\"1\" class=\"dataframe\">\n",
              "  <thead>\n",
              "    <tr style=\"text-align: right;\">\n",
              "      <th></th>\n",
              "      <th>asin</th>\n",
              "      <th>title</th>\n",
              "      <th>main_cat</th>\n",
              "    </tr>\n",
              "  </thead>\n",
              "  <tbody>\n",
              "    <tr>\n",
              "      <th>9</th>\n",
              "      <td>0681256036</td>\n",
              "      <td>Twilight Saga: New Moon Alice Chocker Necklace...</td>\n",
              "      <td>Toys &amp; Games</td>\n",
              "    </tr>\n",
              "    <tr>\n",
              "      <th>10</th>\n",
              "      <td>0756029104</td>\n",
              "      <td>Viva Español Pins Set of 10</td>\n",
              "      <td>Office Products</td>\n",
              "    </tr>\n",
              "    <tr>\n",
              "      <th>11</th>\n",
              "      <td>0829750487</td>\n",
              "      <td>Todo lo puedo / I Can Do Everything Bible Cove...</td>\n",
              "      <td>Books</td>\n",
              "    </tr>\n",
              "    <tr>\n",
              "      <th>12</th>\n",
              "      <td>0871167042</td>\n",
              "      <td>Organic Wire and Metal Jewelry: Stunning Piece...</td>\n",
              "      <td>Books</td>\n",
              "    </tr>\n",
              "    <tr>\n",
              "      <th>13</th>\n",
              "      <td>096603550X</td>\n",
              "      <td>Coach Soccer:Everything You Need to VHS</td>\n",
              "      <td>Movies &amp; TV</td>\n",
              "    </tr>\n",
              "    <tr>\n",
              "      <th>...</th>\n",
              "      <td>...</td>\n",
              "      <td>...</td>\n",
              "      <td>...</td>\n",
              "    </tr>\n",
              "    <tr>\n",
              "      <th>2684970</th>\n",
              "      <td>B01HJE127E</td>\n",
              "      <td>Columbia Junior Mesh Ball Cap</td>\n",
              "      <td>Sports &amp; Outdoors</td>\n",
              "    </tr>\n",
              "    <tr>\n",
              "      <th>2684978</th>\n",
              "      <td>B01HJDZM30</td>\n",
              "      <td>Columbia PFG Mesh Snap Back Ball Cap</td>\n",
              "      <td>Sports &amp; Outdoors</td>\n",
              "    </tr>\n",
              "    <tr>\n",
              "      <th>2685010</th>\n",
              "      <td>B01HJFWM36</td>\n",
              "      <td>Irises Vincent Van Gogh Foldable Umbrella 8 ribs</td>\n",
              "      <td>Amazon Home</td>\n",
              "    </tr>\n",
              "    <tr>\n",
              "      <th>2685045</th>\n",
              "      <td>B01HJFOSMO</td>\n",
              "      <td>JXK Women's Snoopy Logo T-shirt</td>\n",
              "      <td>Books</td>\n",
              "    </tr>\n",
              "    <tr>\n",
              "      <th>2685051</th>\n",
              "      <td>B01HJHF2J0</td>\n",
              "      <td>Vintage Wooden Embossed Flower Pattern Jewelry...</td>\n",
              "      <td>Amazon Home</td>\n",
              "    </tr>\n",
              "  </tbody>\n",
              "</table>\n",
              "<p>213224 rows × 3 columns</p>\n",
              "</div>"
            ],
            "text/plain": [
              "               asin  ...           main_cat\n",
              "9        0681256036  ...       Toys & Games\n",
              "10       0756029104  ...    Office Products\n",
              "11       0829750487  ...              Books\n",
              "12       0871167042  ...              Books\n",
              "13       096603550X  ...        Movies & TV\n",
              "...             ...  ...                ...\n",
              "2684970  B01HJE127E  ...  Sports & Outdoors\n",
              "2684978  B01HJDZM30  ...  Sports & Outdoors\n",
              "2685010  B01HJFWM36  ...        Amazon Home\n",
              "2685045  B01HJFOSMO  ...              Books\n",
              "2685051  B01HJHF2J0  ...        Amazon Home\n",
              "\n",
              "[213224 rows x 3 columns]"
            ]
          },
          "metadata": {
            "tags": []
          }
        }
      ]
    },
    {
      "cell_type": "code",
      "metadata": {
        "id": "d0bDJfVF_nBK",
        "colab_type": "code",
        "outputId": "2c1ed09d-00d6-4b38-ad6c-c4c434d317e7",
        "colab": {
          "base_uri": "https://localhost:8080/",
          "height": 402
        }
      },
      "source": [
        "#renaming the columns\n",
        "Products_meta_df.columns = [\"itemID\", \"title\", \"category\"]\n",
        "display(Products_meta_df)"
      ],
      "execution_count": 0,
      "outputs": [
        {
          "output_type": "display_data",
          "data": {
            "text/html": [
              "<div>\n",
              "<style scoped>\n",
              "    .dataframe tbody tr th:only-of-type {\n",
              "        vertical-align: middle;\n",
              "    }\n",
              "\n",
              "    .dataframe tbody tr th {\n",
              "        vertical-align: top;\n",
              "    }\n",
              "\n",
              "    .dataframe thead th {\n",
              "        text-align: right;\n",
              "    }\n",
              "</style>\n",
              "<table border=\"1\" class=\"dataframe\">\n",
              "  <thead>\n",
              "    <tr style=\"text-align: right;\">\n",
              "      <th></th>\n",
              "      <th>itemID</th>\n",
              "      <th>title</th>\n",
              "      <th>category</th>\n",
              "    </tr>\n",
              "  </thead>\n",
              "  <tbody>\n",
              "    <tr>\n",
              "      <th>9</th>\n",
              "      <td>0681256036</td>\n",
              "      <td>Twilight Saga: New Moon Alice Chocker Necklace...</td>\n",
              "      <td>Toys &amp; Games</td>\n",
              "    </tr>\n",
              "    <tr>\n",
              "      <th>10</th>\n",
              "      <td>0756029104</td>\n",
              "      <td>Viva Español Pins Set of 10</td>\n",
              "      <td>Office Products</td>\n",
              "    </tr>\n",
              "    <tr>\n",
              "      <th>11</th>\n",
              "      <td>0829750487</td>\n",
              "      <td>Todo lo puedo / I Can Do Everything Bible Cove...</td>\n",
              "      <td>Books</td>\n",
              "    </tr>\n",
              "    <tr>\n",
              "      <th>12</th>\n",
              "      <td>0871167042</td>\n",
              "      <td>Organic Wire and Metal Jewelry: Stunning Piece...</td>\n",
              "      <td>Books</td>\n",
              "    </tr>\n",
              "    <tr>\n",
              "      <th>13</th>\n",
              "      <td>096603550X</td>\n",
              "      <td>Coach Soccer:Everything You Need to VHS</td>\n",
              "      <td>Movies &amp; TV</td>\n",
              "    </tr>\n",
              "    <tr>\n",
              "      <th>...</th>\n",
              "      <td>...</td>\n",
              "      <td>...</td>\n",
              "      <td>...</td>\n",
              "    </tr>\n",
              "    <tr>\n",
              "      <th>2684970</th>\n",
              "      <td>B01HJE127E</td>\n",
              "      <td>Columbia Junior Mesh Ball Cap</td>\n",
              "      <td>Sports &amp; Outdoors</td>\n",
              "    </tr>\n",
              "    <tr>\n",
              "      <th>2684978</th>\n",
              "      <td>B01HJDZM30</td>\n",
              "      <td>Columbia PFG Mesh Snap Back Ball Cap</td>\n",
              "      <td>Sports &amp; Outdoors</td>\n",
              "    </tr>\n",
              "    <tr>\n",
              "      <th>2685010</th>\n",
              "      <td>B01HJFWM36</td>\n",
              "      <td>Irises Vincent Van Gogh Foldable Umbrella 8 ribs</td>\n",
              "      <td>Amazon Home</td>\n",
              "    </tr>\n",
              "    <tr>\n",
              "      <th>2685045</th>\n",
              "      <td>B01HJFOSMO</td>\n",
              "      <td>JXK Women's Snoopy Logo T-shirt</td>\n",
              "      <td>Books</td>\n",
              "    </tr>\n",
              "    <tr>\n",
              "      <th>2685051</th>\n",
              "      <td>B01HJHF2J0</td>\n",
              "      <td>Vintage Wooden Embossed Flower Pattern Jewelry...</td>\n",
              "      <td>Amazon Home</td>\n",
              "    </tr>\n",
              "  </tbody>\n",
              "</table>\n",
              "<p>213224 rows × 3 columns</p>\n",
              "</div>"
            ],
            "text/plain": [
              "             itemID  ...           category\n",
              "9        0681256036  ...       Toys & Games\n",
              "10       0756029104  ...    Office Products\n",
              "11       0829750487  ...              Books\n",
              "12       0871167042  ...              Books\n",
              "13       096603550X  ...        Movies & TV\n",
              "...             ...  ...                ...\n",
              "2684970  B01HJE127E  ...  Sports & Outdoors\n",
              "2684978  B01HJDZM30  ...  Sports & Outdoors\n",
              "2685010  B01HJFWM36  ...        Amazon Home\n",
              "2685045  B01HJFOSMO  ...              Books\n",
              "2685051  B01HJHF2J0  ...        Amazon Home\n",
              "\n",
              "[213224 rows x 3 columns]"
            ]
          },
          "metadata": {
            "tags": []
          }
        }
      ]
    },
    {
      "cell_type": "code",
      "metadata": {
        "id": "kLQ85q8lA0CX",
        "colab_type": "code",
        "colab": {}
      },
      "source": [
        "#reading the ratings csv\n",
        "Products_df = pd.read_csv(\"Clothing_Shoes_and_Jewelry.csv\", header=None, names=[\"itemID\", \"userID\", \"rating\"])"
      ],
      "execution_count": 0,
      "outputs": []
    },
    {
      "cell_type": "code",
      "metadata": {
        "id": "r5FEONg6B6wh",
        "colab_type": "code",
        "outputId": "48425839-cfb3-4ca1-96ad-70cc0f958bb6",
        "colab": {
          "base_uri": "https://localhost:8080/",
          "height": 419
        }
      },
      "source": [
        "#checking the format\n",
        "display(Products_df)"
      ],
      "execution_count": 0,
      "outputs": [
        {
          "output_type": "display_data",
          "data": {
            "text/html": [
              "<div>\n",
              "<style scoped>\n",
              "    .dataframe tbody tr th:only-of-type {\n",
              "        vertical-align: middle;\n",
              "    }\n",
              "\n",
              "    .dataframe tbody tr th {\n",
              "        vertical-align: top;\n",
              "    }\n",
              "\n",
              "    .dataframe thead th {\n",
              "        text-align: right;\n",
              "    }\n",
              "</style>\n",
              "<table border=\"1\" class=\"dataframe\">\n",
              "  <thead>\n",
              "    <tr style=\"text-align: right;\">\n",
              "      <th></th>\n",
              "      <th>itemID</th>\n",
              "      <th>userID</th>\n",
              "      <th>rating</th>\n",
              "    </tr>\n",
              "  </thead>\n",
              "  <tbody>\n",
              "    <tr>\n",
              "      <th>0</th>\n",
              "      <td>0871167042</td>\n",
              "      <td>A2IC3NZN488KWK</td>\n",
              "      <td>5.0</td>\n",
              "    </tr>\n",
              "    <tr>\n",
              "      <th>1</th>\n",
              "      <td>0871167042</td>\n",
              "      <td>A3OT9BYASFGU2X</td>\n",
              "      <td>4.0</td>\n",
              "    </tr>\n",
              "    <tr>\n",
              "      <th>2</th>\n",
              "      <td>0871167042</td>\n",
              "      <td>A28GK1G2KDXHRP</td>\n",
              "      <td>5.0</td>\n",
              "    </tr>\n",
              "    <tr>\n",
              "      <th>3</th>\n",
              "      <td>0871167042</td>\n",
              "      <td>A3NFXFEKW8OK0E</td>\n",
              "      <td>5.0</td>\n",
              "    </tr>\n",
              "    <tr>\n",
              "      <th>4</th>\n",
              "      <td>0871167042</td>\n",
              "      <td>A3I6G5TKBVJEK9</td>\n",
              "      <td>5.0</td>\n",
              "    </tr>\n",
              "    <tr>\n",
              "      <th>...</th>\n",
              "      <td>...</td>\n",
              "      <td>...</td>\n",
              "      <td>...</td>\n",
              "    </tr>\n",
              "    <tr>\n",
              "      <th>32292094</th>\n",
              "      <td>B01HJHMQW6</td>\n",
              "      <td>A2ATY4H4A3RK05</td>\n",
              "      <td>5.0</td>\n",
              "    </tr>\n",
              "    <tr>\n",
              "      <th>32292095</th>\n",
              "      <td>B01HJHA4W0</td>\n",
              "      <td>ACNWGCHFOPZ3N</td>\n",
              "      <td>3.0</td>\n",
              "    </tr>\n",
              "    <tr>\n",
              "      <th>32292096</th>\n",
              "      <td>B01HJI0G5Y</td>\n",
              "      <td>A1R7H90HCU8WJK</td>\n",
              "      <td>3.0</td>\n",
              "    </tr>\n",
              "    <tr>\n",
              "      <th>32292097</th>\n",
              "      <td>B01HJI0G5Y</td>\n",
              "      <td>A3VZ29X7SM3L09</td>\n",
              "      <td>5.0</td>\n",
              "    </tr>\n",
              "    <tr>\n",
              "      <th>32292098</th>\n",
              "      <td>B01HJI0G5Y</td>\n",
              "      <td>A38B0V8BYSRUAK</td>\n",
              "      <td>4.0</td>\n",
              "    </tr>\n",
              "  </tbody>\n",
              "</table>\n",
              "<p>32292099 rows × 3 columns</p>\n",
              "</div>"
            ],
            "text/plain": [
              "              itemID          userID  rating\n",
              "0         0871167042  A2IC3NZN488KWK     5.0\n",
              "1         0871167042  A3OT9BYASFGU2X     4.0\n",
              "2         0871167042  A28GK1G2KDXHRP     5.0\n",
              "3         0871167042  A3NFXFEKW8OK0E     5.0\n",
              "4         0871167042  A3I6G5TKBVJEK9     5.0\n",
              "...              ...             ...     ...\n",
              "32292094  B01HJHMQW6  A2ATY4H4A3RK05     5.0\n",
              "32292095  B01HJHA4W0   ACNWGCHFOPZ3N     3.0\n",
              "32292096  B01HJI0G5Y  A1R7H90HCU8WJK     3.0\n",
              "32292097  B01HJI0G5Y  A3VZ29X7SM3L09     5.0\n",
              "32292098  B01HJI0G5Y  A38B0V8BYSRUAK     4.0\n",
              "\n",
              "[32292099 rows x 3 columns]"
            ]
          },
          "metadata": {
            "tags": []
          }
        }
      ]
    },
    {
      "cell_type": "code",
      "metadata": {
        "id": "5KlshPSqDfpx",
        "colab_type": "code",
        "colab": {}
      },
      "source": [
        "#Reducing the rows to 100,000\n",
        "Products_df = Products_df.sample(n=100000, random_state=666)\n"
      ],
      "execution_count": 0,
      "outputs": []
    },
    {
      "cell_type": "code",
      "metadata": {
        "id": "afuPNJ18mKX0",
        "colab_type": "code",
        "colab": {}
      },
      "source": [
        "#Importing library for encoding user_id and item_id\n",
        "from sklearn import preprocessing as prep"
      ],
      "execution_count": 0,
      "outputs": []
    },
    {
      "cell_type": "code",
      "metadata": {
        "id": "EhA22-xBmNlE",
        "colab_type": "code",
        "colab": {}
      },
      "source": [
        "#Encoding item_id in metadata\n",
        "item_encoder = prep.LabelEncoder()\n",
        "item_encoder.fit(Products_meta_df[\"itemID\"])\n",
        "encoded_items = item_encoder.transform(Products_meta_df[\"itemID\"])\n"
      ],
      "execution_count": 0,
      "outputs": []
    },
    {
      "cell_type": "code",
      "metadata": {
        "id": "kXGLJJfMmOWu",
        "colab_type": "code",
        "colab": {}
      },
      "source": [
        "#Encoding user_id in ratings file\n",
        "user_encoder = prep.LabelEncoder()\n",
        "user_encoder.fit(Products_df[\"userID\"])\n",
        "encoded_users = user_encoder.transform(Products_df[\"userID\"])"
      ],
      "execution_count": 0,
      "outputs": []
    },
    {
      "cell_type": "code",
      "metadata": {
        "id": "Adkn1iKCEEn2",
        "colab_type": "code",
        "colab": {}
      },
      "source": [
        "#Storing item_encoding as a dictionary\n",
        "item_dict = {label:index for index, label in enumerate(item_encoder.classes_.tolist())}\n",
        "\n",
        "count = len(item_dict)\n",
        "Products_df[\"item_index\"] = 0\n",
        "\n",
        "unknown = []\n",
        "\n",
        "for i in range(len(Products_df)):\n",
        "  try:\n",
        "    Products_df.iloc[i, 3] = item_dict[Products_df.iloc[i, 0]]\n",
        "  except KeyError:\n",
        "    count += 1\n",
        "    unknown.append(Products_df.iloc[i, 0])\n",
        "    item_dict[Products_df.iloc[i, 0]] = count\n",
        "    Products_df.iloc[i, 3] = item_dict[Products_df.iloc[i, 0]]"
      ],
      "execution_count": 0,
      "outputs": []
    },
    {
      "cell_type": "code",
      "metadata": {
        "id": "juagrPIHE6AJ",
        "colab_type": "code",
        "colab": {}
      },
      "source": [
        "#Creating dataframe consisting of unknown values to be merged with metadata\n",
        "new_rows = [[itemID, \"Unknown Item - \" + str(itemID), \"Others\", item_dict[itemID]] for itemID in unknown if len(unknown) > 0 ]\n",
        "\n",
        "if len(new_rows) > 0:\n",
        "  new_rows = pd.DataFrame(data = new_rows, columns = [\"itemID\", \"title\", \"category\", \"item_index\"])"
      ],
      "execution_count": 0,
      "outputs": []
    },
    {
      "cell_type": "code",
      "metadata": {
        "id": "HcRQtY6uFBOi",
        "colab_type": "code",
        "colab": {}
      },
      "source": [
        "#Joining item_index to metadata as a column\n",
        "encoded_items = pd.DataFrame(data = encoded_items.tolist(), columns=[\"item_index\"])\n",
        "Products_meta_df = pd.concat([Products_meta_df.reset_index(drop=True), encoded_items.reset_index(drop=True)], axis=1)\n",
        "\n",
        "#Appending unknown items to the metadata\n",
        "if len(unknown) > 0:\n",
        "   Products_meta_df = Products_meta_df.append(new_rows)"
      ],
      "execution_count": 0,
      "outputs": []
    },
    {
      "cell_type": "code",
      "metadata": {
        "id": "hqIt5UUs_75A",
        "colab_type": "code",
        "outputId": "986635d1-4f57-45b3-a4c8-c929d8bbf88f",
        "colab": {
          "base_uri": "https://localhost:8080/",
          "height": 402
        }
      },
      "source": [
        "#checking the metadata after processing\n",
        "Products_meta_df"
      ],
      "execution_count": 0,
      "outputs": [
        {
          "output_type": "execute_result",
          "data": {
            "text/html": [
              "<div>\n",
              "<style scoped>\n",
              "    .dataframe tbody tr th:only-of-type {\n",
              "        vertical-align: middle;\n",
              "    }\n",
              "\n",
              "    .dataframe tbody tr th {\n",
              "        vertical-align: top;\n",
              "    }\n",
              "\n",
              "    .dataframe thead th {\n",
              "        text-align: right;\n",
              "    }\n",
              "</style>\n",
              "<table border=\"1\" class=\"dataframe\">\n",
              "  <thead>\n",
              "    <tr style=\"text-align: right;\">\n",
              "      <th></th>\n",
              "      <th>itemID</th>\n",
              "      <th>title</th>\n",
              "      <th>category</th>\n",
              "      <th>item_index</th>\n",
              "    </tr>\n",
              "  </thead>\n",
              "  <tbody>\n",
              "    <tr>\n",
              "      <th>0</th>\n",
              "      <td>0681256036</td>\n",
              "      <td>Twilight Saga: New Moon Alice Chocker Necklace...</td>\n",
              "      <td>Toys &amp; Games</td>\n",
              "      <td>0</td>\n",
              "    </tr>\n",
              "    <tr>\n",
              "      <th>1</th>\n",
              "      <td>0756029104</td>\n",
              "      <td>Viva Español Pins Set of 10</td>\n",
              "      <td>Office Products</td>\n",
              "      <td>1</td>\n",
              "    </tr>\n",
              "    <tr>\n",
              "      <th>2</th>\n",
              "      <td>0829750487</td>\n",
              "      <td>Todo lo puedo / I Can Do Everything Bible Cove...</td>\n",
              "      <td>Books</td>\n",
              "      <td>2</td>\n",
              "    </tr>\n",
              "    <tr>\n",
              "      <th>3</th>\n",
              "      <td>0871167042</td>\n",
              "      <td>Organic Wire and Metal Jewelry: Stunning Piece...</td>\n",
              "      <td>Books</td>\n",
              "      <td>3</td>\n",
              "    </tr>\n",
              "    <tr>\n",
              "      <th>4</th>\n",
              "      <td>096603550X</td>\n",
              "      <td>Coach Soccer:Everything You Need to VHS</td>\n",
              "      <td>Movies &amp; TV</td>\n",
              "      <td>4</td>\n",
              "    </tr>\n",
              "    <tr>\n",
              "      <th>...</th>\n",
              "      <td>...</td>\n",
              "      <td>...</td>\n",
              "      <td>...</td>\n",
              "      <td>...</td>\n",
              "    </tr>\n",
              "    <tr>\n",
              "      <th>65482</th>\n",
              "      <td>B00NNSJD0O</td>\n",
              "      <td>Unknown Item - B00NNSJD0O</td>\n",
              "      <td>Others</td>\n",
              "      <td>278203</td>\n",
              "    </tr>\n",
              "    <tr>\n",
              "      <th>65483</th>\n",
              "      <td>B0154LAPY0</td>\n",
              "      <td>Unknown Item - B0154LAPY0</td>\n",
              "      <td>Others</td>\n",
              "      <td>278204</td>\n",
              "    </tr>\n",
              "    <tr>\n",
              "      <th>65484</th>\n",
              "      <td>B00V9JYGN8</td>\n",
              "      <td>Unknown Item - B00V9JYGN8</td>\n",
              "      <td>Others</td>\n",
              "      <td>278205</td>\n",
              "    </tr>\n",
              "    <tr>\n",
              "      <th>65485</th>\n",
              "      <td>B00FYIXFCS</td>\n",
              "      <td>Unknown Item - B00FYIXFCS</td>\n",
              "      <td>Others</td>\n",
              "      <td>278206</td>\n",
              "    </tr>\n",
              "    <tr>\n",
              "      <th>65486</th>\n",
              "      <td>B005HEMSJU</td>\n",
              "      <td>Unknown Item - B005HEMSJU</td>\n",
              "      <td>Others</td>\n",
              "      <td>278207</td>\n",
              "    </tr>\n",
              "  </tbody>\n",
              "</table>\n",
              "<p>278711 rows × 4 columns</p>\n",
              "</div>"
            ],
            "text/plain": [
              "           itemID  ... item_index\n",
              "0      0681256036  ...          0\n",
              "1      0756029104  ...          1\n",
              "2      0829750487  ...          2\n",
              "3      0871167042  ...          3\n",
              "4      096603550X  ...          4\n",
              "...           ...  ...        ...\n",
              "65482  B00NNSJD0O  ...     278203\n",
              "65483  B0154LAPY0  ...     278204\n",
              "65484  B00V9JYGN8  ...     278205\n",
              "65485  B00FYIXFCS  ...     278206\n",
              "65486  B005HEMSJU  ...     278207\n",
              "\n",
              "[278711 rows x 4 columns]"
            ]
          },
          "metadata": {
            "tags": []
          },
          "execution_count": 28
        }
      ]
    },
    {
      "cell_type": "code",
      "metadata": {
        "id": "Nbu2hikMJ__S",
        "colab_type": "code",
        "colab": {}
      },
      "source": [
        "#Joining user_index to products_df as a column\n",
        "encoded_users = pd.DataFrame(data = encoded_users.tolist(), columns=[\"user_index\"])\n",
        "Products_df = pd.concat([Products_df.reset_index(drop=True), encoded_users.reset_index(drop=True)], axis=1)\n",
        "\n",
        "#Dropping unnecessary columns\n",
        "Products_df = Products_df.drop(columns = [\"itemID\", \"userID\"])"
      ],
      "execution_count": 0,
      "outputs": []
    },
    {
      "cell_type": "code",
      "metadata": {
        "id": "0_Kgfd16KQNL",
        "colab_type": "code",
        "colab": {}
      },
      "source": [
        "#Exporting the product_df and metadata_Df to csv\n",
        "Products_df.to_csv(\"Products_preprocessed.csv\", sep = \",\", index=False)\n",
        "Products_meta_df.to_csv(\"Products_meta_preprocessed.csv\", sep = \",\", index=False)"
      ],
      "execution_count": 0,
      "outputs": []
    },
    {
      "cell_type": "code",
      "metadata": {
        "id": "VmlTXyxQLSUG",
        "colab_type": "code",
        "colab": {}
      },
      "source": [
        "#Storing item_encoding as a dictionary\n",
        "user_dict = {label:index for index, label in enumerate(user_encoder.classes_.tolist())}\n",
        "\n",
        "#Storing it as pickled/serialized object\n",
        "import pickle\n",
        "with open('user_dict.pkl', 'wb') as f:\n",
        "  pickle.dump(user_dict, f, pickle.HIGHEST_PROTOCOL)"
      ],
      "execution_count": 0,
      "outputs": []
    },
    {
      "cell_type": "markdown",
      "metadata": {
        "id": "7Ae3BeXNAUTK",
        "colab_type": "text"
      },
      "source": [
        "# **Model Building**"
      ]
    },
    {
      "cell_type": "code",
      "metadata": {
        "id": "RTebrI6yAGEp",
        "colab_type": "code",
        "colab": {}
      },
      "source": [
        "#importing necessary libraries for ALS\n",
        "from pyspark.ml.tuning import ParamGridBuilder, CrossValidator\n",
        "from pyspark.ml.evaluation import RegressionEvaluator\n",
        "from pyspark.ml.recommendation import ALS"
      ],
      "execution_count": 0,
      "outputs": []
    },
    {
      "cell_type": "code",
      "metadata": {
        "id": "oGFYW0bgAbBH",
        "colab_type": "code",
        "colab": {}
      },
      "source": [
        "#setting parameter grid for parameter tuning by cross-validation\n",
        "evaluator = RegressionEvaluator(metricName = \"rmse\", labelCol = \"rating\",\n",
        "                                predictionCol = \"prediction\")\n",
        "#Model\n",
        "recsys = ALS(userCol = \"user_index\", itemCol = \"item_index\",\n",
        "             ratingCol = \"rating\", nonnegative = True, coldStartStrategy=\"drop\")\n",
        "\n",
        "#Parameter grid\n",
        "paramGrid = ParamGridBuilder() \\\n",
        "    .addGrid(recsys.regParam, [0.1, 0.01, 0.001]) \\\n",
        "    .addGrid(recsys.rank, [5, 10, 15]) \\\n",
        "    .build()\n",
        "\n",
        "#Cross validation \n",
        "cvs = CrossValidator(estimator = recsys,\n",
        "                     estimatorParamMaps = paramGrid,\n",
        "                     evaluator = evaluator,\n",
        "                     numFolds=5)"
      ],
      "execution_count": 0,
      "outputs": []
    },
    {
      "cell_type": "code",
      "metadata": {
        "id": "VW85pvURBzQO",
        "colab_type": "code",
        "outputId": "f4bc6ead-c36e-4e01-822f-eff268551416",
        "colab": {
          "base_uri": "https://localhost:8080/",
          "height": 101
        }
      },
      "source": [
        "#Reading the Products ratings file\n",
        "pathToFile = 'Products_preprocessed.csv'\n",
        "ProductsDF = spark.read.csv(pathToFile, inferSchema = True, header = True)\n",
        "ProductsDF.printSchema()"
      ],
      "execution_count": 0,
      "outputs": [
        {
          "output_type": "stream",
          "text": [
            "root\n",
            " |-- rating: double (nullable = true)\n",
            " |-- item_index: integer (nullable = true)\n",
            " |-- user_index: integer (nullable = true)\n",
            "\n"
          ],
          "name": "stdout"
        }
      ]
    },
    {
      "cell_type": "code",
      "metadata": {
        "id": "lHCdBP2BCDnm",
        "colab_type": "code",
        "outputId": "62ab3e95-7e89-4a55-9c6b-d9b5d247226a",
        "colab": {
          "base_uri": "https://localhost:8080/",
          "height": 118
        }
      },
      "source": [
        "#Reading the metadata file\n",
        "pathToFile = 'Products_meta_preprocessed.csv'\n",
        "metadataDF = spark.read.csv(pathToFile, inferSchema = True, header = True)\n",
        "metadataDF.printSchema()"
      ],
      "execution_count": 0,
      "outputs": [
        {
          "output_type": "stream",
          "text": [
            "root\n",
            " |-- itemID: string (nullable = true)\n",
            " |-- title: string (nullable = true)\n",
            " |-- category: string (nullable = true)\n",
            " |-- item_index: string (nullable = true)\n",
            "\n"
          ],
          "name": "stdout"
        }
      ]
    },
    {
      "cell_type": "code",
      "metadata": {
        "id": "ZbBxg2ojAh-O",
        "colab_type": "code",
        "colab": {}
      },
      "source": [
        "#cross validation on the products ratings data\n",
        "cvs_model = cvs.fit(ProductsDF)\n",
        "\n",
        "#defining best model \n",
        "recsys = cvs_model.bestModel"
      ],
      "execution_count": 0,
      "outputs": []
    },
    {
      "cell_type": "code",
      "metadata": {
        "id": "uQwHxemOAnFt",
        "colab_type": "code",
        "outputId": "40863678-ed4a-4076-f8af-7f1afee14764",
        "colab": {
          "base_uri": "https://localhost:8080/",
          "height": 454
        }
      },
      "source": [
        "#Getting top 10 recommendations for all users\n",
        "userRecs = recsys.recommendForAllUsers(10)\n",
        "userRecs.show()"
      ],
      "execution_count": 0,
      "outputs": [
        {
          "output_type": "stream",
          "text": [
            "+----------+--------------------+\n",
            "|user_index|     recommendations|\n",
            "+----------+--------------------+\n",
            "|       148|[[248744, 7.09437...|\n",
            "|       463|[[234408, 6.44202...|\n",
            "|       471|[[258136, 7.60827...|\n",
            "|       496|[[270400, 7.04140...|\n",
            "|       833|[[251473, 7.57953...|\n",
            "|      1088|[[222202, 6.49615...|\n",
            "|      1238|[[236750, 7.92593...|\n",
            "|      1342|[[239566, 7.15092...|\n",
            "|      1580|[[263520, 5.08429...|\n",
            "|      1591|[[263720, 4.99947...|\n",
            "|      1645|[[47875, 8.959118...|\n",
            "|      1829|[[256197, 7.90000...|\n",
            "|      1959|[[239488, 5.89850...|\n",
            "|      2122|[[249748, 5.61986...|\n",
            "|      2142|[[237956, 5.04347...|\n",
            "|      2366|[[227411, 6.67051...|\n",
            "|      2659|[[275262, 5.25661...|\n",
            "|      2866|[[225141, 9.16360...|\n",
            "|      3175|[[224268, 3.35245...|\n",
            "|      3749|[[243042, 6.04326...|\n",
            "+----------+--------------------+\n",
            "only showing top 20 rows\n",
            "\n"
          ],
          "name": "stdout"
        }
      ]
    },
    {
      "cell_type": "code",
      "metadata": {
        "id": "YknpVw2lAqgb",
        "colab_type": "code",
        "outputId": "9cfa04c2-6ded-4789-f5be-f262ad932204",
        "colab": {
          "base_uri": "https://localhost:8080/",
          "height": 134
        }
      },
      "source": [
        "#printing schema for the recommendation engine\n",
        "userRecs.printSchema()"
      ],
      "execution_count": 0,
      "outputs": [
        {
          "output_type": "stream",
          "text": [
            "root\n",
            " |-- user_index: integer (nullable = false)\n",
            " |-- recommendations: array (nullable = true)\n",
            " |    |-- element: struct (containsNull = true)\n",
            " |    |    |-- item_index: integer (nullable = true)\n",
            " |    |    |-- rating: float (nullable = true)\n",
            "\n"
          ],
          "name": "stdout"
        }
      ]
    },
    {
      "cell_type": "code",
      "metadata": {
        "id": "CGwclzpaGA60",
        "colab_type": "code",
        "outputId": "1502d530-1d60-4f33-e48e-fd296f11631e",
        "colab": {
          "base_uri": "https://localhost:8080/",
          "height": 54
        }
      },
      "source": [
        "#itertaing list of lists for recommedations\n",
        "df = userRecs.toPandas()\n",
        "list = df.values.tolist()\n",
        "print(list[3])\n"
      ],
      "execution_count": 0,
      "outputs": [
        {
          "output_type": "stream",
          "text": [
            "[496, [Row(item_index=270400, rating=7.041402816772461), Row(item_index=247712, rating=6.570556640625), Row(item_index=257698, rating=6.507608413696289), Row(item_index=261606, rating=6.4802021980285645), Row(item_index=246604, rating=6.463449478149414), Row(item_index=265610, rating=6.421609878540039), Row(item_index=245889, rating=6.409777641296387), Row(item_index=276399, rating=6.393669128417969), Row(item_index=48441, rating=6.388440132141113), Row(item_index=226587, rating=6.331538200378418)]]\n"
          ],
          "name": "stdout"
        }
      ]
    },
    {
      "cell_type": "code",
      "metadata": {
        "id": "k0KIwFymJmmL",
        "colab_type": "code",
        "colab": {}
      },
      "source": [
        "#Converting list to dataframe\n",
        "import numpy as np\n",
        "new =[]\n",
        "dfi = pd.DataFrame(columns = ['a','b','c'])\n",
        "for i in list:\n",
        "  for j in i[1]:\n",
        "    #new= [int(x) for x in str(i[0])]\n",
        "    new=[i[0]]\n",
        "    #print(type(new))\n",
        "    new.append(j[0])\n",
        "    new.append(j[1])\n",
        "    dfi = dfi.append({'a': new[0], 'b' : new[1], 'c' : new[2]} , ignore_index = True)\n"
      ],
      "execution_count": 0,
      "outputs": []
    },
    {
      "cell_type": "code",
      "metadata": {
        "id": "NmK-wBE1qB75",
        "colab_type": "code",
        "outputId": "b52458fa-b9de-4497-8c0f-643972f3f72c",
        "colab": {
          "base_uri": "https://localhost:8080/",
          "height": 402
        }
      },
      "source": [
        "#checking the dataframe\n",
        "dfi"
      ],
      "execution_count": 0,
      "outputs": [
        {
          "output_type": "execute_result",
          "data": {
            "text/html": [
              "<div>\n",
              "<style scoped>\n",
              "    .dataframe tbody tr th:only-of-type {\n",
              "        vertical-align: middle;\n",
              "    }\n",
              "\n",
              "    .dataframe tbody tr th {\n",
              "        vertical-align: top;\n",
              "    }\n",
              "\n",
              "    .dataframe thead th {\n",
              "        text-align: right;\n",
              "    }\n",
              "</style>\n",
              "<table border=\"1\" class=\"dataframe\">\n",
              "  <thead>\n",
              "    <tr style=\"text-align: right;\">\n",
              "      <th></th>\n",
              "      <th>a</th>\n",
              "      <th>b</th>\n",
              "      <th>c</th>\n",
              "    </tr>\n",
              "  </thead>\n",
              "  <tbody>\n",
              "    <tr>\n",
              "      <th>0</th>\n",
              "      <td>148.0</td>\n",
              "      <td>248744.0</td>\n",
              "      <td>7.094375</td>\n",
              "    </tr>\n",
              "    <tr>\n",
              "      <th>1</th>\n",
              "      <td>148.0</td>\n",
              "      <td>241259.0</td>\n",
              "      <td>6.965418</td>\n",
              "    </tr>\n",
              "    <tr>\n",
              "      <th>2</th>\n",
              "      <td>148.0</td>\n",
              "      <td>216979.0</td>\n",
              "      <td>6.932223</td>\n",
              "    </tr>\n",
              "    <tr>\n",
              "      <th>3</th>\n",
              "      <td>148.0</td>\n",
              "      <td>214536.0</td>\n",
              "      <td>6.915580</td>\n",
              "    </tr>\n",
              "    <tr>\n",
              "      <th>4</th>\n",
              "      <td>148.0</td>\n",
              "      <td>225582.0</td>\n",
              "      <td>6.893297</td>\n",
              "    </tr>\n",
              "    <tr>\n",
              "      <th>...</th>\n",
              "      <td>...</td>\n",
              "      <td>...</td>\n",
              "      <td>...</td>\n",
              "    </tr>\n",
              "    <tr>\n",
              "      <th>988345</th>\n",
              "      <td>98417.0</td>\n",
              "      <td>224032.0</td>\n",
              "      <td>5.303926</td>\n",
              "    </tr>\n",
              "    <tr>\n",
              "      <th>988346</th>\n",
              "      <td>98417.0</td>\n",
              "      <td>187214.0</td>\n",
              "      <td>5.289124</td>\n",
              "    </tr>\n",
              "    <tr>\n",
              "      <th>988347</th>\n",
              "      <td>98417.0</td>\n",
              "      <td>213229.0</td>\n",
              "      <td>5.264712</td>\n",
              "    </tr>\n",
              "    <tr>\n",
              "      <th>988348</th>\n",
              "      <td>98417.0</td>\n",
              "      <td>251776.0</td>\n",
              "      <td>5.264226</td>\n",
              "    </tr>\n",
              "    <tr>\n",
              "      <th>988349</th>\n",
              "      <td>98417.0</td>\n",
              "      <td>233272.0</td>\n",
              "      <td>5.207371</td>\n",
              "    </tr>\n",
              "  </tbody>\n",
              "</table>\n",
              "<p>988350 rows × 3 columns</p>\n",
              "</div>"
            ],
            "text/plain": [
              "              a         b         c\n",
              "0         148.0  248744.0  7.094375\n",
              "1         148.0  241259.0  6.965418\n",
              "2         148.0  216979.0  6.932223\n",
              "3         148.0  214536.0  6.915580\n",
              "4         148.0  225582.0  6.893297\n",
              "...         ...       ...       ...\n",
              "988345  98417.0  224032.0  5.303926\n",
              "988346  98417.0  187214.0  5.289124\n",
              "988347  98417.0  213229.0  5.264712\n",
              "988348  98417.0  251776.0  5.264226\n",
              "988349  98417.0  233272.0  5.207371\n",
              "\n",
              "[988350 rows x 3 columns]"
            ]
          },
          "metadata": {
            "tags": []
          },
          "execution_count": 46
        }
      ]
    },
    {
      "cell_type": "code",
      "metadata": {
        "id": "yTLOhI4nnB6m",
        "colab_type": "code",
        "outputId": "bf3e4c00-2177-483c-c636-4373759f403b",
        "colab": {
          "base_uri": "https://localhost:8080/",
          "height": 402
        }
      },
      "source": [
        "#changing the datatype of columns\n",
        "dfi[['b']] = dfi[['b']].astype('str')\n"
      ],
      "execution_count": 0,
      "outputs": [
        {
          "output_type": "execute_result",
          "data": {
            "text/html": [
              "<div>\n",
              "<style scoped>\n",
              "    .dataframe tbody tr th:only-of-type {\n",
              "        vertical-align: middle;\n",
              "    }\n",
              "\n",
              "    .dataframe tbody tr th {\n",
              "        vertical-align: top;\n",
              "    }\n",
              "\n",
              "    .dataframe thead th {\n",
              "        text-align: right;\n",
              "    }\n",
              "</style>\n",
              "<table border=\"1\" class=\"dataframe\">\n",
              "  <thead>\n",
              "    <tr style=\"text-align: right;\">\n",
              "      <th></th>\n",
              "      <th>a</th>\n",
              "      <th>b</th>\n",
              "      <th>c</th>\n",
              "    </tr>\n",
              "  </thead>\n",
              "  <tbody>\n",
              "    <tr>\n",
              "      <th>0</th>\n",
              "      <td>148.0</td>\n",
              "      <td>248744</td>\n",
              "      <td>7.094375</td>\n",
              "    </tr>\n",
              "    <tr>\n",
              "      <th>1</th>\n",
              "      <td>148.0</td>\n",
              "      <td>241259</td>\n",
              "      <td>6.965418</td>\n",
              "    </tr>\n",
              "    <tr>\n",
              "      <th>2</th>\n",
              "      <td>148.0</td>\n",
              "      <td>216979</td>\n",
              "      <td>6.932223</td>\n",
              "    </tr>\n",
              "    <tr>\n",
              "      <th>3</th>\n",
              "      <td>148.0</td>\n",
              "      <td>214536</td>\n",
              "      <td>6.915580</td>\n",
              "    </tr>\n",
              "    <tr>\n",
              "      <th>4</th>\n",
              "      <td>148.0</td>\n",
              "      <td>225582</td>\n",
              "      <td>6.893297</td>\n",
              "    </tr>\n",
              "    <tr>\n",
              "      <th>...</th>\n",
              "      <td>...</td>\n",
              "      <td>...</td>\n",
              "      <td>...</td>\n",
              "    </tr>\n",
              "    <tr>\n",
              "      <th>988345</th>\n",
              "      <td>98417.0</td>\n",
              "      <td>224032</td>\n",
              "      <td>5.303926</td>\n",
              "    </tr>\n",
              "    <tr>\n",
              "      <th>988346</th>\n",
              "      <td>98417.0</td>\n",
              "      <td>187214</td>\n",
              "      <td>5.289124</td>\n",
              "    </tr>\n",
              "    <tr>\n",
              "      <th>988347</th>\n",
              "      <td>98417.0</td>\n",
              "      <td>213229</td>\n",
              "      <td>5.264712</td>\n",
              "    </tr>\n",
              "    <tr>\n",
              "      <th>988348</th>\n",
              "      <td>98417.0</td>\n",
              "      <td>251776</td>\n",
              "      <td>5.264226</td>\n",
              "    </tr>\n",
              "    <tr>\n",
              "      <th>988349</th>\n",
              "      <td>98417.0</td>\n",
              "      <td>233272</td>\n",
              "      <td>5.207371</td>\n",
              "    </tr>\n",
              "  </tbody>\n",
              "</table>\n",
              "<p>988350 rows × 3 columns</p>\n",
              "</div>"
            ],
            "text/plain": [
              "              a       b         c\n",
              "0         148.0  248744  7.094375\n",
              "1         148.0  241259  6.965418\n",
              "2         148.0  216979  6.932223\n",
              "3         148.0  214536  6.915580\n",
              "4         148.0  225582  6.893297\n",
              "...         ...     ...       ...\n",
              "988345  98417.0  224032  5.303926\n",
              "988346  98417.0  187214  5.289124\n",
              "988347  98417.0  213229  5.264712\n",
              "988348  98417.0  251776  5.264226\n",
              "988349  98417.0  233272  5.207371\n",
              "\n",
              "[988350 rows x 3 columns]"
            ]
          },
          "metadata": {
            "tags": []
          },
          "execution_count": 59
        }
      ]
    },
    {
      "cell_type": "code",
      "metadata": {
        "id": "Mib0QlLynCCS",
        "colab_type": "code",
        "colab": {}
      },
      "source": [
        "#joining the dataframes metadata and ratings data to get the categories if recommended products \n",
        "join = pd.merge(dfi, metadataDF_panda, left_on = 'b', right_on = 'item_index', how = 'left', left_index = False, right_index = False )"
      ],
      "execution_count": 0,
      "outputs": []
    },
    {
      "cell_type": "code",
      "metadata": {
        "id": "SgJHlQevnCFu",
        "colab_type": "code",
        "outputId": "160d3d2c-6d35-4abc-c310-17245b161861",
        "colab": {
          "base_uri": "https://localhost:8080/",
          "height": 402
        }
      },
      "source": [
        "#renaming columns\n",
        "join = join.rename(columns={'a': 'user_id', 'c': 'rating'})\n",
        "join"
      ],
      "execution_count": 0,
      "outputs": [
        {
          "output_type": "execute_result",
          "data": {
            "text/html": [
              "<div>\n",
              "<style scoped>\n",
              "    .dataframe tbody tr th:only-of-type {\n",
              "        vertical-align: middle;\n",
              "    }\n",
              "\n",
              "    .dataframe tbody tr th {\n",
              "        vertical-align: top;\n",
              "    }\n",
              "\n",
              "    .dataframe thead th {\n",
              "        text-align: right;\n",
              "    }\n",
              "</style>\n",
              "<table border=\"1\" class=\"dataframe\">\n",
              "  <thead>\n",
              "    <tr style=\"text-align: right;\">\n",
              "      <th></th>\n",
              "      <th>user_id</th>\n",
              "      <th>rating</th>\n",
              "      <th>itemID</th>\n",
              "      <th>title</th>\n",
              "      <th>category</th>\n",
              "      <th>item_index</th>\n",
              "    </tr>\n",
              "  </thead>\n",
              "  <tbody>\n",
              "    <tr>\n",
              "      <th>0</th>\n",
              "      <td>148.0</td>\n",
              "      <td>7.094375</td>\n",
              "      <td>B00GJCX4AG</td>\n",
              "      <td>Unknown Item - B00GJCX4AG</td>\n",
              "      <td>Others</td>\n",
              "      <td>248744</td>\n",
              "    </tr>\n",
              "    <tr>\n",
              "      <th>1</th>\n",
              "      <td>148.0</td>\n",
              "      <td>6.965418</td>\n",
              "      <td>B01FJXWR80</td>\n",
              "      <td>Unknown Item - B01FJXWR80</td>\n",
              "      <td>Others</td>\n",
              "      <td>241259</td>\n",
              "    </tr>\n",
              "    <tr>\n",
              "      <th>2</th>\n",
              "      <td>148.0</td>\n",
              "      <td>6.932223</td>\n",
              "      <td>B000WAN2KS</td>\n",
              "      <td>Unknown Item - B000WAN2KS</td>\n",
              "      <td>Others</td>\n",
              "      <td>216979</td>\n",
              "    </tr>\n",
              "    <tr>\n",
              "      <th>3</th>\n",
              "      <td>148.0</td>\n",
              "      <td>6.915580</td>\n",
              "      <td>B0044PP6LK</td>\n",
              "      <td>Unknown Item - B0044PP6LK</td>\n",
              "      <td>Others</td>\n",
              "      <td>214536</td>\n",
              "    </tr>\n",
              "    <tr>\n",
              "      <th>4</th>\n",
              "      <td>148.0</td>\n",
              "      <td>6.893297</td>\n",
              "      <td>B004XYJZ7I</td>\n",
              "      <td>Unknown Item - B004XYJZ7I</td>\n",
              "      <td>Others</td>\n",
              "      <td>225582</td>\n",
              "    </tr>\n",
              "    <tr>\n",
              "      <th>...</th>\n",
              "      <td>...</td>\n",
              "      <td>...</td>\n",
              "      <td>...</td>\n",
              "      <td>...</td>\n",
              "      <td>...</td>\n",
              "      <td>...</td>\n",
              "    </tr>\n",
              "    <tr>\n",
              "      <th>988850</th>\n",
              "      <td>98417.0</td>\n",
              "      <td>5.303926</td>\n",
              "      <td>B005LHG8IA</td>\n",
              "      <td>Unknown Item - B005LHG8IA</td>\n",
              "      <td>Others</td>\n",
              "      <td>224032</td>\n",
              "    </tr>\n",
              "    <tr>\n",
              "      <th>988851</th>\n",
              "      <td>98417.0</td>\n",
              "      <td>5.289124</td>\n",
              "      <td>B018J5UAWK</td>\n",
              "      <td>Costa Redfish Species LS Shirts</td>\n",
              "      <td>Sports &amp; Outdoors</td>\n",
              "      <td>187214</td>\n",
              "    </tr>\n",
              "    <tr>\n",
              "      <th>988852</th>\n",
              "      <td>98417.0</td>\n",
              "      <td>5.264712</td>\n",
              "      <td>B00KQ7MIRK</td>\n",
              "      <td>Unknown Item - B00KQ7MIRK</td>\n",
              "      <td>Others</td>\n",
              "      <td>213229</td>\n",
              "    </tr>\n",
              "    <tr>\n",
              "      <th>988853</th>\n",
              "      <td>98417.0</td>\n",
              "      <td>5.264226</td>\n",
              "      <td>B00E7NOTCG</td>\n",
              "      <td>Unknown Item - B00E7NOTCG</td>\n",
              "      <td>Others</td>\n",
              "      <td>251776</td>\n",
              "    </tr>\n",
              "    <tr>\n",
              "      <th>988854</th>\n",
              "      <td>98417.0</td>\n",
              "      <td>5.207371</td>\n",
              "      <td>B000G3F7TK</td>\n",
              "      <td>Unknown Item - B000G3F7TK</td>\n",
              "      <td>Others</td>\n",
              "      <td>233272</td>\n",
              "    </tr>\n",
              "  </tbody>\n",
              "</table>\n",
              "<p>988855 rows × 6 columns</p>\n",
              "</div>"
            ],
            "text/plain": [
              "        user_id    rating  ...           category item_index\n",
              "0         148.0  7.094375  ...             Others     248744\n",
              "1         148.0  6.965418  ...             Others     241259\n",
              "2         148.0  6.932223  ...             Others     216979\n",
              "3         148.0  6.915580  ...             Others     214536\n",
              "4         148.0  6.893297  ...             Others     225582\n",
              "...         ...       ...  ...                ...        ...\n",
              "988850  98417.0  5.303926  ...             Others     224032\n",
              "988851  98417.0  5.289124  ...  Sports & Outdoors     187214\n",
              "988852  98417.0  5.264712  ...             Others     213229\n",
              "988853  98417.0  5.264226  ...             Others     251776\n",
              "988854  98417.0  5.207371  ...             Others     233272\n",
              "\n",
              "[988855 rows x 6 columns]"
            ]
          },
          "metadata": {
            "tags": []
          },
          "execution_count": 68
        }
      ]
    },
    {
      "cell_type": "code",
      "metadata": {
        "id": "UcB3tGl_nCK0",
        "colab_type": "code",
        "colab": {}
      },
      "source": [
        "#converting the dataframe to csv\n",
        "join.to_csv('joined.csv')"
      ],
      "execution_count": 0,
      "outputs": []
    }
  ]
}